{
 "cells": [
  {
   "cell_type": "code",
   "execution_count": 1,
   "metadata": {
    "scrolled": true
   },
   "outputs": [],
   "source": [
    "import sys\n",
    "# append to path the folder that contains the analytic scanner\n",
    "sys.path.append('../ESA/GaiaLab/gaialab')\n",
    "\n",
    "import frame_transformations as ft\n",
    "from scanner import Scanner\n",
    "from satellite import Satellite\n",
    "from source import Source\n",
    "from source import Calc_source\n",
    "import constants as const\n",
    "\n",
    "import quaternion\n",
    "import helpers as helpers\n",
    "import numpy as np\n",
    "\n",
    "import astropy.units as units\n",
    "import matplotlib.pyplot as plt\n",
    "import astropy.units as units"
   ]
  },
  {
   "cell_type": "code",
   "execution_count": 2,
   "metadata": {},
   "outputs": [],
   "source": [
    "t_init = 0 \n",
    "t_end =  365*5\n",
    "my_dt = 1/24 # [days]\n",
    "gaia = Satellite(ti=t_init, tf=t_end, dt= my_dt)"
   ]
  },
  {
   "cell_type": "code",
   "execution_count": 3,
   "metadata": {},
   "outputs": [],
   "source": [
    "class Calc_src :\n",
    "    \"\"\"the data structure that is used for a calculated source\"\"\"\n",
    "    def __init__(self,alpha,delta,varpi,muAlphaStar,muDelta):\n",
    "        self.s_params = [alpha,delta,varpi,muAlphaStar,muDelta]\n",
    "        self.mu_radial = 0.0"
   ]
  },
  {
   "cell_type": "markdown",
   "metadata": {},
   "source": [
    "the agis.py code is not that simple, basic functionalities such as source solver are not obvious, below is a proposal for changes."
   ]
  },
  {
   "cell_type": "code",
   "execution_count": 4,
   "metadata": {},
   "outputs": [],
   "source": [
    "def compute_du_ds(p,q,r,q_l,t_l):\n",
    "    \"\"\"\n",
    "    params p,q,r : the vectors defining the frame associated to a source position at reference epoch\n",
    "    params q_l,t_l : the attitude at time t_l\n",
    "    returns : du_ds_SRS\n",
    "    \"\"\"\n",
    "    # Equation 73\n",
    "    r.shape = (3, 1)  # reshapes r\n",
    "    b_G = gaia.ephemeris_bcrs(t_l)\n",
    "    tau = t_l - const.t_ep  # + np.dot(r, b_G) / const.c\n",
    "    # Compute derivatives\n",
    "    du_ds_CoMRS = [p, q, af.compute_du_dparallax(r, b_G), p*tau, q*tau]\n",
    "    # Equation 72\n",
    "    # should be changed to a pythonic map\n",
    "    du_ds_SRS = []\n",
    "    for derivative in du_ds_CoMRS:\n",
    "        du_ds_SRS.append(ft.lmn_to_xyz(q_l, derivative))\n",
    "    return np.array(du_ds_SRS)\n",
    "\n",
    "def compute_design_equation(true_source,calc_source,observation_times):\n",
    "    \"\"\"\n",
    "    param true_source : the parameters of the true source\n",
    "    param calc_source : the parameters of the estimated source\n",
    "    param observation_times : a list of times that will be used to create observation \n",
    "        (they do not necessarly correspond to a realistic scanning law, \n",
    "        indeed the true attitude is taken using the position of the true source at these times)\n",
    "    returns : dR_ds_AL, dR_ds_AC, R_AL, R_AC, FA(phi_obs, zeta_obs,phi_calc, zeta_calc)\n",
    "    \"\"\"\n",
    "    alpha0 = calc_source.s_params[0]\n",
    "    delta0 = calc_source.s_params[1]    \n",
    "    p, q, r = ft.compute_pqr(alpha0, delta0)\n",
    "    n_obs = len(observation_times)\n",
    "    R_AL = np.zeros(n_obs)\n",
    "    R_AC = np.zeros(n_obs)\n",
    "    dR_ds_AL = np.zeros((n_obs, 5))\n",
    "    dR_ds_AC = np.zeros((n_obs, 5))\n",
    "    FA = []\n",
    "    for j, t_l in enumerate(observation_times): \n",
    "        # fake attitude using the position of the true sources at the given time\n",
    "        # i.e. not based on the nominal scanning law\n",
    "        q_l = af.attitude_from_alpha_delta(true_source,gaia,t_l,0)\n",
    "        phi_obs, zeta_obs = af.observed_field_angles(true_source, q_l, gaia, t_l, False)\n",
    "        phi_calc, zeta_calc = af.calculated_field_angles(calc_source, q_l, gaia, t_l, False)\n",
    "        \n",
    "        FA.append([phi_obs, zeta_obs,phi_calc, zeta_calc])\n",
    "        \n",
    "        R_AL[j] = (phi_obs-phi_calc)\n",
    "        R_AC[j] = (zeta_obs-zeta_calc)\n",
    "        \n",
    "        m, n, u = af.compute_mnu(phi_calc, zeta_calc)\n",
    "        \n",
    "        du_ds = compute_du_ds(p,q,r,q_l,t_l)\n",
    "        dR_ds_AL[j, :] = m @ du_ds.transpose() * helpers.sec(zeta_calc)\n",
    "        dR_ds_AC[j, :] = n @ du_ds.transpose()\n",
    "    return dR_ds_AL, dR_ds_AC, R_AL, R_AC, np.array(FA)\n",
    "\n",
    "def solve_AL(true_source,calc_source,observation_times):\n",
    "    \"\"\"\n",
    "    perform one step of the source solver using along scan observations\n",
    "    \"\"\"\n",
    "    # get the design equation\n",
    "    dR_ds_AL, dR_ds_AC, R_AL, R_AC, FA = compute_design_equation(true_source,calc_source,my_observations)\n",
    "    # build the normal equation\n",
    "    N = dR_ds_AL.transpose() @ dR_ds_AL \n",
    "    rhs = dR_ds_AL.transpose() @ R_AL\n",
    "    # solve the normal equation\n",
    "    updates = np.linalg.solve(N,rhs)\n",
    "    # update the calculated source parameters\n",
    "    # take care of alpha\n",
    "    calc_source.s_params[0] = calc_source.s_params[0] + updates[0] * np.cos(calc_source.s_params[1])\n",
    "    calc_source.s_params[1:] = calc_source.s_params[1:] + updates[1:]"
   ]
  },
  {
   "cell_type": "markdown",
   "metadata": {},
   "source": [
    "the source model might need some clarification"
   ]
  },
  {
   "cell_type": "code",
   "execution_count": 5,
   "metadata": {
    "scrolled": true
   },
   "outputs": [],
   "source": [
    "zero_color = lambda t: 0\n",
    "sirio = Source(\"sirio\", 101.28, -16.7161, 379.21, -546.05, -1223.14, 0,0,0)"
   ]
  },
  {
   "cell_type": "code",
   "execution_count": 6,
   "metadata": {
    "scrolled": true
   },
   "outputs": [],
   "source": [
    "np.random.seed(seed=1)  # numpy seed set to increase reproducibility\n",
    "my_observations = np.random.randint(low=t_init, high=t_end, size=100)\n",
    "my_observations = np.sort(my_observations)"
   ]
  },
  {
   "cell_type": "code",
   "execution_count": 7,
   "metadata": {},
   "outputs": [],
   "source": [
    "def noise_calc_sources(s,noise = 1e-5):\n",
    "    \"\"\"\n",
    "    add noise to source parameters\n",
    "    \"\"\"\n",
    "    s.s_params[0] += noise\n",
    "    s.s_params[1] += noise\n",
    "    s.s_params[2] += -s.s_params[2]/10\n",
    "    s.s_params[3] += s.s_params[3]*0.1\n",
    "    s.s_params[4] += s.s_params[4]*0.1"
   ]
  },
  {
   "cell_type": "markdown",
   "metadata": {},
   "source": [
    "The mode updating set to 'source' means that one used a non realistic attitude for each observation time based on the source position. The documentation should be updated to be clearer."
   ]
  },
  {
   "cell_type": "code",
   "execution_count": 8,
   "metadata": {},
   "outputs": [
    {
     "ename": "AttributeError",
     "evalue": "'Calc_source' object has no attribute 's_params'",
     "output_type": "error",
     "traceback": [
      "\u001b[1;31m---------------------------------------------------------------------------\u001b[0m",
      "\u001b[1;31mAttributeError\u001b[0m                            Traceback (most recent call last)",
      "\u001b[1;32m<ipython-input-8-5a5b3f218bd5>\u001b[0m in \u001b[0;36m<module>\u001b[1;34m\u001b[0m\n\u001b[0;32m      1\u001b[0m \u001b[0mcalc_s\u001b[0m \u001b[1;33m=\u001b[0m\u001b[0mCalc_source\u001b[0m\u001b[1;33m(\u001b[0m\u001b[0mobs_times\u001b[0m\u001b[1;33m=\u001b[0m\u001b[0mmy_observations\u001b[0m\u001b[1;33m,\u001b[0m \u001b[0msource\u001b[0m\u001b[1;33m=\u001b[0m\u001b[0msirio\u001b[0m\u001b[1;33m)\u001b[0m\u001b[1;33m\u001b[0m\u001b[1;33m\u001b[0m\u001b[0m\n\u001b[1;32m----> 2\u001b[1;33m \u001b[0mnoise_calc_sources\u001b[0m\u001b[1;33m(\u001b[0m\u001b[0mcalc_s\u001b[0m\u001b[1;33m)\u001b[0m\u001b[1;33m\u001b[0m\u001b[1;33m\u001b[0m\u001b[0m\n\u001b[0m\u001b[0;32m      3\u001b[0m \u001b[0mcalc_s\u001b[0m\u001b[1;33m.\u001b[0m\u001b[0ms_params\u001b[0m\u001b[1;33m-\u001b[0m\u001b[0msirio\u001b[0m\u001b[1;33m.\u001b[0m\u001b[0mget_parameters\u001b[0m\u001b[1;33m(\u001b[0m\u001b[1;33m)\u001b[0m\u001b[1;33m[\u001b[0m\u001b[1;33m:\u001b[0m\u001b[1;36m5\u001b[0m\u001b[1;33m]\u001b[0m\u001b[1;33m\u001b[0m\u001b[1;33m\u001b[0m\u001b[0m\n",
      "\u001b[1;32m<ipython-input-7-d111b2758cea>\u001b[0m in \u001b[0;36mnoise_calc_sources\u001b[1;34m(s, noise)\u001b[0m\n\u001b[0;32m      3\u001b[0m     \u001b[0madd\u001b[0m \u001b[0mnoise\u001b[0m \u001b[0mto\u001b[0m \u001b[0msource\u001b[0m \u001b[0mparameters\u001b[0m\u001b[1;33m\u001b[0m\u001b[1;33m\u001b[0m\u001b[0m\n\u001b[0;32m      4\u001b[0m     \"\"\"\n\u001b[1;32m----> 5\u001b[1;33m     \u001b[0ms\u001b[0m\u001b[1;33m.\u001b[0m\u001b[0ms_params\u001b[0m\u001b[1;33m[\u001b[0m\u001b[1;36m0\u001b[0m\u001b[1;33m]\u001b[0m \u001b[1;33m+=\u001b[0m \u001b[0mnoise\u001b[0m\u001b[1;33m\u001b[0m\u001b[1;33m\u001b[0m\u001b[0m\n\u001b[0m\u001b[0;32m      6\u001b[0m     \u001b[0ms\u001b[0m\u001b[1;33m.\u001b[0m\u001b[0ms_params\u001b[0m\u001b[1;33m[\u001b[0m\u001b[1;36m1\u001b[0m\u001b[1;33m]\u001b[0m \u001b[1;33m+=\u001b[0m \u001b[0mnoise\u001b[0m\u001b[1;33m\u001b[0m\u001b[1;33m\u001b[0m\u001b[0m\n\u001b[0;32m      7\u001b[0m     \u001b[0ms\u001b[0m\u001b[1;33m.\u001b[0m\u001b[0ms_params\u001b[0m\u001b[1;33m[\u001b[0m\u001b[1;36m2\u001b[0m\u001b[1;33m]\u001b[0m \u001b[1;33m+=\u001b[0m \u001b[1;33m-\u001b[0m\u001b[0ms\u001b[0m\u001b[1;33m.\u001b[0m\u001b[0ms_params\u001b[0m\u001b[1;33m[\u001b[0m\u001b[1;36m2\u001b[0m\u001b[1;33m]\u001b[0m\u001b[1;33m/\u001b[0m\u001b[1;36m10\u001b[0m\u001b[1;33m\u001b[0m\u001b[1;33m\u001b[0m\u001b[0m\n",
      "\u001b[1;31mAttributeError\u001b[0m: 'Calc_source' object has no attribute 's_params'"
     ]
    }
   ],
   "source": [
    "calc_s =Calc_source(obs_times=my_observations, source=sirio)\n",
    "noise_calc_sources(calc_s)\n",
    "calc_s.s_params-sirio.get_parameters()[:5]"
   ]
  },
  {
   "cell_type": "markdown",
   "metadata": {},
   "source": [
    "The field angles values computed in *compute_design_equation* can be used to visualised the source position in the sky as seen in the SRS reference frame associated to the satellite."
   ]
  },
  {
   "cell_type": "code",
   "execution_count": null,
   "metadata": {},
   "outputs": [],
   "source": [
    "dR_ds_AL, dR_ds_AC, R_AL, R_AC, FA = compute_design_equation(sirio,calc_s,my_observations)  "
   ]
  },
  {
   "cell_type": "markdown",
   "metadata": {},
   "source": [
    "for the true source"
   ]
  },
  {
   "cell_type": "code",
   "execution_count": null,
   "metadata": {},
   "outputs": [],
   "source": [
    "plt.scatter(FA[:,0]*units.rad.to(units.mas),FA[:,1]*units.rad.to(units.mas),c=my_observations)"
   ]
  },
  {
   "cell_type": "markdown",
   "metadata": {},
   "source": [
    "for the current estimate of the calculated source"
   ]
  },
  {
   "cell_type": "code",
   "execution_count": 9,
   "metadata": {},
   "outputs": [
    {
     "ename": "NameError",
     "evalue": "name 'FA' is not defined",
     "output_type": "error",
     "traceback": [
      "\u001b[1;31m---------------------------------------------------------------------------\u001b[0m",
      "\u001b[1;31mNameError\u001b[0m                                 Traceback (most recent call last)",
      "\u001b[1;32m<ipython-input-9-9d0269d16099>\u001b[0m in \u001b[0;36m<module>\u001b[1;34m\u001b[0m\n\u001b[1;32m----> 1\u001b[1;33m \u001b[0mplt\u001b[0m\u001b[1;33m.\u001b[0m\u001b[0mscatter\u001b[0m\u001b[1;33m(\u001b[0m\u001b[0mFA\u001b[0m\u001b[1;33m[\u001b[0m\u001b[1;33m:\u001b[0m\u001b[1;33m,\u001b[0m\u001b[1;36m2\u001b[0m\u001b[1;33m]\u001b[0m\u001b[1;33m*\u001b[0m\u001b[0munits\u001b[0m\u001b[1;33m.\u001b[0m\u001b[0mrad\u001b[0m\u001b[1;33m.\u001b[0m\u001b[0mto\u001b[0m\u001b[1;33m(\u001b[0m\u001b[0munits\u001b[0m\u001b[1;33m.\u001b[0m\u001b[0mmas\u001b[0m\u001b[1;33m)\u001b[0m\u001b[1;33m,\u001b[0m\u001b[0mFA\u001b[0m\u001b[1;33m[\u001b[0m\u001b[1;33m:\u001b[0m\u001b[1;33m,\u001b[0m\u001b[1;36m3\u001b[0m\u001b[1;33m]\u001b[0m\u001b[1;33m*\u001b[0m\u001b[0munits\u001b[0m\u001b[1;33m.\u001b[0m\u001b[0mrad\u001b[0m\u001b[1;33m.\u001b[0m\u001b[0mto\u001b[0m\u001b[1;33m(\u001b[0m\u001b[0munits\u001b[0m\u001b[1;33m.\u001b[0m\u001b[0mmas\u001b[0m\u001b[1;33m)\u001b[0m\u001b[1;33m,\u001b[0m\u001b[0mc\u001b[0m\u001b[1;33m=\u001b[0m\u001b[0mmy_observations\u001b[0m\u001b[1;33m)\u001b[0m\u001b[1;33m\u001b[0m\u001b[1;33m\u001b[0m\u001b[0m\n\u001b[0m",
      "\u001b[1;31mNameError\u001b[0m: name 'FA' is not defined"
     ]
    }
   ],
   "source": [
    "plt.scatter(FA[:,2]*units.rad.to(units.mas),FA[:,3]*units.rad.to(units.mas),c=my_observations)"
   ]
  },
  {
   "cell_type": "markdown",
   "metadata": {},
   "source": [
    "One can check that the solver is converging after 10 iterations of the source update."
   ]
  },
  {
   "cell_type": "code",
   "execution_count": 12,
   "metadata": {},
   "outputs": [],
   "source": [
    "for i in range(0,10):\n",
    "    solve_AL(sirio,calc_s,my_observations)\n",
    "    calc_s.s_params-sirio.get_parameters()[:5]"
   ]
  },
  {
   "cell_type": "code",
   "execution_count": 13,
   "metadata": {},
   "outputs": [],
   "source": [
    "dR_ds_AL, dR_ds_AC, R_AL, R_AC, FA = compute_design_equation(sirio,calc_s,my_observations)  "
   ]
  },
  {
   "cell_type": "code",
   "execution_count": 14,
   "metadata": {},
   "outputs": [
    {
     "data": {
      "text/plain": [
       "<matplotlib.collections.PathCollection at 0x182239dcf8>"
      ]
     },
     "execution_count": 14,
     "metadata": {},
     "output_type": "execute_result"
    },
    {
     "data": {
      "image/png": "[encoded data removed]",
      "text/plain": [
       "<matplotlib.figure.Figure at 0x1822378128>"
      ]
     },
     "metadata": {},
     "output_type": "display_data"
    }
   ],
   "source": [
    "plt.scatter(FA[:,0]*units.rad.to(units.mas),FA[:,1]*units.rad.to(units.mas),c=my_observations)"
   ]
  },
  {
   "cell_type": "code",
   "execution_count": 15,
   "metadata": {},
   "outputs": [
    {
     "data": {
      "text/plain": [
       "<matplotlib.collections.PathCollection at 0x1820882fd0>"
      ]
     },
     "execution_count": 15,
     "metadata": {},
     "output_type": "execute_result"
    },
    {
     "data": {
      "image/png": "[encoded data removed]",
      "text/plain": [
       "<matplotlib.figure.Figure at 0x18223ba588>"
      ]
     },
     "metadata": {},
     "output_type": "display_data"
    }
   ],
   "source": [
    "plt.scatter(FA[:,2]*units.rad.to(units.mas),FA[:,3]*units.rad.to(units.mas),c=my_observations)"
   ]
  },
  {
   "cell_type": "code",
   "execution_count": null,
   "metadata": {},
   "outputs": [],
   "source": []
  }
 ],
 "metadata": {
  "kernelspec": {
   "display_name": "Python 3",
   "language": "python",
   "name": "python3"
  },
  "language_info": {
   "codemirror_mode": {
    "name": "ipython",
    "version": 3
   },
   "file_extension": ".py",
   "mimetype": "text/x-python",
   "name": "python",
   "nbconvert_exporter": "python",
   "pygments_lexer": "ipython3",
   "version": "3.7.2"
  }
 },
 "nbformat": 4,
 "nbformat_minor": 2
}
