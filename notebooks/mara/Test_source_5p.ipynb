{
 "cells": [
  {
   "cell_type": "code",
   "execution_count": 1,
   "metadata": {},
   "outputs": [],
   "source": [
    "import sys\n",
    " #append to path the folder that contains the analytic scanner\n",
    "sys.path.append('../ESA/GaiaLab/gaialab')\n",
    "\n",
    "import frame_transformations as ft\n",
    "from scanner import Scanner\n",
    "from satellite import Satellite\n",
    "from source import Source\n",
    "from solver import compute_design_equation\n",
    "\n",
    "\n",
    "import constants as const\n",
    "\n",
    "import quaternion\n",
    "from source import Calc_source\n",
    "import agis_functions as af\n",
    "import helpers as helpers\n",
    "\n",
    "import numpy as np\n",
    "\n",
    "import astropy.units as units\n",
    "import matplotlib.pyplot as plt\n",
    "import astropy.units as units"
   ]
  },
  {
   "cell_type": "code",
   "execution_count": 2,
   "metadata": {},
   "outputs": [],
   "source": [
    "sirio = Source(\"sirio\", 101.28, -16.7161, 379.21, -546.05, -1223.14, 0 )"
   ]
  },
  {
   "cell_type": "code",
   "execution_count": 3,
   "metadata": {},
   "outputs": [],
   "source": [
    "my_observations = np.arange(0,365*3,15)"
   ]
  },
  {
   "cell_type": "code",
   "execution_count": 4,
   "metadata": {},
   "outputs": [],
   "source": [
    "calc_s =  Calc_source(obs_times=my_observations, source=sirio)"
   ]
  },
  {
   "cell_type": "code",
   "execution_count": 5,
   "metadata": {},
   "outputs": [],
   "source": [
    "gaia = Satellite(0, 365*5, 1/24)"
   ]
  },
  {
   "cell_type": "code",
   "execution_count": 6,
   "metadata": {
    "scrolled": true
   },
   "outputs": [],
   "source": [
    "dR_ds_AL, dR_ds_AC, R_AL, R_AC, FA = compute_design_equation(sirio,calc_s,gaia,my_observations) \n",
    "FA=FA*units.rad.to(units.mas)"
   ]
  },
  {
   "cell_type": "code",
   "execution_count": 7,
   "metadata": {},
   "outputs": [
    {
     "data": {
      "text/plain": [
       "<matplotlib.collections.PathCollection at 0x1ceef7758d0>"
      ]
     },
     "execution_count": 7,
     "metadata": {},
     "output_type": "execute_result"
    },
    {
     "data": {
      "image/png": "[encoded data removed]",
      "text/plain": [
       "<Figure size 432x288 with 1 Axes>"
      ]
     },
     "metadata": {
      "needs_background": "light"
     },
     "output_type": "display_data"
    }
   ],
   "source": [
    "plt.scatter(FA[:,0],FA[:,1],c=my_observations)"
   ]
  },
  {
   "cell_type": "code",
   "execution_count": 8,
   "metadata": {
    "scrolled": false
   },
   "outputs": [
    {
     "data": {
      "text/plain": [
       "array([   0,   15,   30,   45,   60,   75,   90,  105,  120,  135,  150,\n",
       "        165,  180,  195,  210,  225,  240,  255,  270,  285,  300,  315,\n",
       "        330,  345,  360,  375,  390,  405,  420,  435,  450,  465,  480,\n",
       "        495,  510,  525,  540,  555,  570,  585,  600,  615,  630,  645,\n",
       "        660,  675,  690,  705,  720,  735,  750,  765,  780,  795,  810,\n",
       "        825,  840,  855,  870,  885,  900,  915,  930,  945,  960,  975,\n",
       "        990, 1005, 1020, 1035, 1050, 1065, 1080])"
      ]
     },
     "execution_count": 8,
     "metadata": {},
     "output_type": "execute_result"
    }
   ],
   "source": [
    "my_observations"
   ]
  },
  {
   "cell_type": "code",
   "execution_count": 10,
   "metadata": {},
   "outputs": [
    {
     "data": {
      "text/plain": [
       "array([[ 9.81594056e-01, -2.19598943e-01,  8.71862692e-01,\n",
       "         0.00000000e+00,  0.00000000e+00],\n",
       "       [ 9.81593975e-01, -2.19599376e-01,  9.23816535e-01,\n",
       "         1.47239096e+01, -3.29399064e+00],\n",
       "       [ 9.81593884e-01, -2.19599815e-01,  9.14517438e-01,\n",
       "         2.94478165e+01, -6.58799444e+00],\n",
       "       [ 9.81593788e-01, -2.19600244e-01,  8.44581971e-01,\n",
       "         4.41717205e+01, -9.88201097e+00],\n",
       "       [ 9.81593690e-01, -2.19600648e-01,  7.18647145e-01,\n",
       "         5.88956214e+01, -1.31760389e+01],\n",
       "       [ 9.81593593e-01, -2.19601014e-01,  5.45062959e-01,\n",
       "         7.36195195e+01, -1.64700761e+01],\n",
       "       [ 9.81593501e-01, -2.19601331e-01,  3.35338768e-01,\n",
       "         8.83434151e+01, -1.97641198e+01],\n",
       "       [ 9.81593417e-01, -2.19601592e-01,  1.03380167e-01,\n",
       "         1.03067309e+02, -2.30581672e+01],\n",
       "       [ 9.81593344e-01, -2.19601793e-01, -1.35433003e-01,\n",
       "         1.17791201e+02, -2.63522152e+01],\n",
       "       [ 9.81593284e-01, -2.19601934e-01, -3.65266404e-01,\n",
       "         1.32515093e+02, -2.96462610e+01],\n",
       "       [ 9.81593238e-01, -2.19602018e-01, -5.70881080e-01,\n",
       "         1.47238986e+02, -3.29403027e+01],\n",
       "       [ 9.81593207e-01, -2.19602055e-01, -7.38643875e-01,\n",
       "         1.61962879e+02, -3.62343390e+01],\n",
       "       [ 9.81593188e-01, -2.19602054e-01, -8.57431370e-01,\n",
       "         1.76686774e+02, -3.95283698e+01],\n",
       "       [ 9.81593182e-01, -2.19602030e-01, -9.19367422e-01,\n",
       "         1.91410670e+02, -4.28223959e+01],\n",
       "       [ 9.81593185e-01, -2.19601998e-01, -9.20345392e-01,\n",
       "         2.06134569e+02, -4.61164196e+01],\n",
       "       [ 9.81593194e-01, -2.19601973e-01, -8.60300437e-01,\n",
       "         2.20858469e+02, -4.94104439e+01],\n",
       "       [ 9.81593206e-01, -2.19601970e-01, -7.43213804e-01,\n",
       "         2.35582369e+02, -5.27044729e+01],\n",
       "       [ 9.81593217e-01, -2.19602003e-01, -5.76848863e-01,\n",
       "         2.50306270e+02, -5.59985109e+01],\n",
       "       [ 9.81593224e-01, -2.19602084e-01, -3.72236349e-01,\n",
       "         2.65030170e+02, -5.92925627e+01],\n",
       "       [ 9.81593223e-01, -2.19602220e-01, -1.42942973e-01,\n",
       "         2.79754069e+02, -6.25866327e+01],\n",
       "       [ 9.81593211e-01, -2.19602416e-01,  9.58281137e-02,\n",
       "         2.94477963e+02, -6.58807248e+01],\n",
       "       [ 9.81593187e-01, -2.19602672e-01,  3.28245358e-01,\n",
       "         3.09201854e+02, -6.91748417e+01],\n",
       "       [ 9.81593149e-01, -2.19602985e-01,  5.38898508e-01,\n",
       "         3.23925739e+02, -7.24689852e+01],\n",
       "       [ 9.81593097e-01, -2.19603348e-01,  7.13820373e-01,\n",
       "         3.38649618e+02, -7.57631551e+01],\n",
       "       [ 9.81593031e-01, -2.19603750e-01,  8.41412905e-01,\n",
       "         3.53373491e+02, -7.90573500e+01],\n",
       "       [ 9.81592953e-01, -2.19604178e-01,  9.13216194e-01,\n",
       "         3.68097357e+02, -8.23515666e+01],\n",
       "       [ 9.81592865e-01, -2.19604616e-01,  9.24469388e-01,\n",
       "         3.82821218e+02, -8.56458003e+01],\n",
       "       [ 9.81592771e-01, -2.19605050e-01,  8.74426357e-01,\n",
       "         3.97545072e+02, -8.89400453e+01],\n",
       "       [ 9.81592673e-01, -2.19605464e-01,  7.66405160e-01,\n",
       "         4.12268923e+02, -9.22342950e+01],\n",
       "       [ 9.81592575e-01, -2.19605845e-01,  6.07568049e-01,\n",
       "         4.26992770e+02, -9.55285424e+01],\n",
       "       [ 9.81592481e-01, -2.19606179e-01,  4.08446586e-01,\n",
       "         4.41716616e+02, -9.88227806e+01],\n",
       "       [ 9.81592394e-01, -2.19606459e-01,  1.82243355e-01,\n",
       "         4.56440463e+02, -1.02117004e+02],\n",
       "       [ 9.81592317e-01, -2.19606680e-01, -5.60434108e-02,\n",
       "         4.71164312e+02, -1.05411207e+02],\n",
       "       [ 9.81592253e-01, -2.19606841e-01, -2.90614279e-01,\n",
       "         4.85888165e+02, -1.08705386e+02],\n",
       "       [ 9.81592202e-01, -2.19606943e-01, -5.05916185e-01,\n",
       "         5.00612023e+02, -1.11999541e+02],\n",
       "       [ 9.81592166e-01, -2.19606995e-01, -6.87673669e-01,\n",
       "         5.15335887e+02, -1.15293672e+02],\n",
       "       [ 9.81592143e-01, -2.19607005e-01, -8.23835404e-01,\n",
       "         5.30059757e+02, -1.18587783e+02],\n",
       "       [ 9.81592133e-01, -2.19606988e-01, -9.05373261e-01,\n",
       "         5.44783634e+02, -1.21881878e+02],\n",
       "       [ 9.81592133e-01, -2.19606956e-01, -9.26880911e-01,\n",
       "         5.59507516e+02, -1.25175965e+02],\n",
       "       [ 9.81592140e-01, -2.19606927e-01, -8.86932301e-01,\n",
       "         5.74231402e+02, -1.28470052e+02],\n",
       "       [ 9.81592152e-01, -2.19606915e-01, -7.88176203e-01,\n",
       "         5.88955291e+02, -1.31764149e+02],\n",
       "       [ 9.81592164e-01, -2.19606935e-01, -6.37160588e-01,\n",
       "         6.03679181e+02, -1.35058265e+02],\n",
       "       [ 9.81592172e-01, -2.19606999e-01, -4.43898464e-01,\n",
       "         6.18403069e+02, -1.38352409e+02],\n",
       "       [ 9.81592174e-01, -2.19607116e-01, -2.21203966e-01,\n",
       "         6.33126952e+02, -1.41646590e+02],\n",
       "       [ 9.81592166e-01, -2.19607291e-01,  1.61572865e-02,\n",
       "         6.47850830e+02, -1.44940812e+02],\n",
       "       [ 9.81592147e-01, -2.19607528e-01,  2.52447215e-01,\n",
       "         6.62574699e+02, -1.48235081e+02],\n",
       "       [ 9.81592113e-01, -2.19607823e-01,  4.71998787e-01,\n",
       "         6.77298558e+02, -1.51529398e+02],\n",
       "       [ 9.81592066e-01, -2.19608170e-01,  6.60254806e-01,\n",
       "         6.92022406e+02, -1.54823760e+02],\n",
       "       [ 9.81592004e-01, -2.19608560e-01,  8.04733111e-01,\n",
       "         7.06746243e+02, -1.58118163e+02],\n",
       "       [ 9.81591930e-01, -2.19608980e-01,  8.95854195e-01,\n",
       "         7.21470069e+02, -1.61412601e+02],\n",
       "       [ 9.81591846e-01, -2.19609417e-01,  9.27576354e-01,\n",
       "         7.36193884e+02, -1.64707063e+02],\n",
       "       [ 9.81591753e-01, -2.19609854e-01,  8.97796283e-01,\n",
       "         7.50917691e+02, -1.68001539e+02],\n",
       "       [ 9.81591655e-01, -2.19610277e-01,  8.08488524e-01,\n",
       "         7.65641491e+02, -1.71296016e+02],\n",
       "       [ 9.81591557e-01, -2.19610670e-01,  6.65574550e-01,\n",
       "         7.80365288e+02, -1.74590483e+02],\n",
       "       [ 9.81591461e-01, -2.19611021e-01,  4.78530150e-01,\n",
       "         7.95089084e+02, -1.77884927e+02],\n",
       "       [ 9.81591372e-01, -2.19611320e-01,  2.59757149e-01,\n",
       "         8.09812882e+02, -1.81179339e+02],\n",
       "       [ 9.81591291e-01, -2.19611561e-01,  2.37611185e-02,\n",
       "         8.24536685e+02, -1.84473711e+02],\n",
       "       [ 9.81591223e-01, -2.19611741e-01, -2.13810398e-01,\n",
       "         8.39260495e+02, -1.87768039e+02],\n",
       "       [ 9.81591167e-01, -2.19611863e-01, -4.37205383e-01,\n",
       "         8.53984316e+02, -1.91062321e+02],\n",
       "       [ 9.81591126e-01, -2.19611930e-01, -6.31611774e-01,\n",
       "         8.68708147e+02, -1.94356558e+02],\n",
       "       [ 9.81591099e-01, -2.19611953e-01, -7.84139570e-01,\n",
       "         8.83431989e+02, -1.97650758e+02],\n",
       "       [ 9.81591085e-01, -2.19611943e-01, -8.84675498e-01,\n",
       "         8.98155843e+02, -2.00944928e+02],\n",
       "       [ 9.81591082e-01, -2.19611915e-01, -9.26553576e-01,\n",
       "         9.12879706e+02, -2.04239081e+02],\n",
       "       [ 9.81591087e-01, -2.19611883e-01, -9.06997097e-01,\n",
       "         9.27603577e+02, -2.07533230e+02],\n",
       "       [ 9.81591098e-01, -2.19611864e-01, -8.27302743e-01,\n",
       "         9.42327454e+02, -2.10827389e+02],\n",
       "       [ 9.81591110e-01, -2.19611872e-01, -6.92754608e-01,\n",
       "         9.57051332e+02, -2.14121575e+02],\n",
       "       [ 9.81591120e-01, -2.19611920e-01, -5.12273834e-01,\n",
       "         9.71775209e+02, -2.17415800e+02],\n",
       "       [ 9.81591124e-01, -2.19612018e-01, -2.97827097e-01,\n",
       "         9.86499080e+02, -2.20710078e+02],\n",
       "       [ 9.81591120e-01, -2.19612174e-01, -6.36331569e-02,\n",
       "         1.00122294e+03, -2.24004417e+02],\n",
       "       [ 9.81591105e-01, -2.19612390e-01,  1.74779909e-01,\n",
       "         1.01594679e+03, -2.27298823e+02],\n",
       "       [ 9.81591076e-01, -2.19612666e-01,  4.01604292e-01,\n",
       "         1.03067063e+03, -2.30593299e+02],\n",
       "       [ 9.81591033e-01, -2.19612996e-01,  6.01800572e-01,\n",
       "         1.04539445e+03, -2.33887841e+02],\n",
       "       [ 9.81590976e-01, -2.19613373e-01,  7.62094898e-01,\n",
       "         1.06011825e+03, -2.37182443e+02]])"
      ]
     },
     "execution_count": 10,
     "metadata": {},
     "output_type": "execute_result"
    }
   ],
   "source": [
    "dR_ds_AL"
   ]
  },
  {
   "cell_type": "code",
   "execution_count": 9,
   "metadata": {},
   "outputs": [
    {
     "name": "stdout",
     "output_type": "stream",
     "text": [
      "ok\n"
     ]
    },
    {
     "data": {
      "text/plain": [
       "<matplotlib.collections.PathCollection at 0x1ae10ae4da0>"
      ]
     },
     "execution_count": 9,
     "metadata": {},
     "output_type": "execute_result"
    },
    {
     "data": {
      "image/png": "[encoded data removed]",
      "text/plain": [
       "<Figure size 432x288 with 1 Axes>"
      ]
     },
     "metadata": {
      "needs_background": "light"
     },
     "output_type": "display_data"
    }
   ],
   "source": [
    "#bernard = Source(\"bernard\", 269.45, 4.6933 , 547.4506, -802.803, 10362.54, 0)\n",
    "#my_observations = np.arange(0,365*3,15)\n",
    "#calc_s =  Calc_source(obs_times=my_observations, source=bernard)\n",
    "#gaia = Satellite(0, 365*5, 1/24)\n",
    "#dR_ds_AL, dR_ds_AC, R_AL, R_AC, FA = compute_design_equation(bernard,calc_s,gaia,my_observations)  \n",
    "#plt.scatter(FA[:,0]*units.rad.to(units.mas),FA[:,1]*units.rad.to(units.mas),c=my_observations)"
   ]
  },
  {
   "cell_type": "code",
   "execution_count": null,
   "metadata": {},
   "outputs": [],
   "source": []
  }
 ],
 "metadata": {
  "kernelspec": {
   "display_name": "Python 3",
   "language": "python",
   "name": "python3"
  },
  "language_info": {
   "codemirror_mode": {
    "name": "ipython",
    "version": 3
   },
   "file_extension": ".py",
   "mimetype": "text/x-python",
   "name": "python",
   "nbconvert_exporter": "python",
   "pygments_lexer": "ipython3",
   "version": "3.7.2"
  }
 },
 "nbformat": 4,
 "nbformat_minor": 2
}
