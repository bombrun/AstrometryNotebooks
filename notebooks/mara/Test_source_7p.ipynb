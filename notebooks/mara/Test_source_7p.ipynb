{
 "cells": [
  {
   "cell_type": "code",
   "execution_count": 1,
   "metadata": {},
   "outputs": [],
   "source": [
    "#This is the test for the 7 parameters Source model\n",
    "\n",
    "import sys\n",
    " #append to path the folder that contains the analytic scanner\n",
    "sys.path.append('../ESA/GaiaLab/gaialab')\n",
    "\n",
    "import frame_transformations as ft\n",
    "from scanner import Scanner\n",
    "from satellite import Satellite\n",
    "from source7p import Source\n",
    "from source7p import Calc_source\n",
    "from solver7p import compute_design_equation\n",
    "import solver7p\n",
    "\n",
    "import constants as const\n",
    "import quaternion\n",
    "import agis_functions as af\n",
    "import helpers as helpers\n",
    "import numpy as np\n",
    "\n",
    "import astropy.units as units\n",
    "import matplotlib.pyplot as plt"
   ]
  },
  {
   "cell_type": "code",
   "execution_count": 2,
   "metadata": {},
   "outputs": [],
   "source": [
    "#bernard = Source(\"bernard\", 269.45, 4.6933 , 547.4506, -802.803, 10362.54, -0.55, 5.9, 0)\n",
    "#my_observations = np.arange(0,365*3,15)\n",
    "#calc_s =  Calc_source(obs_times=my_observations, source=bernard)\n",
    "#gaia = Satellite(0, 365*5, 1/24)\n",
    "#dR_ds_AL, dR_ds_AC, R_AL, R_AC, FA = compute_design_equation(bernard,calc_s,gaia,my_observations)\n",
    "#plt.scatter(FA[:,0]*units.rad.to(units.mas),FA[:,1]*units.rad.to(units.mas),c=my_observations)"
   ]
  },
  {
   "cell_type": "code",
   "execution_count": 3,
   "metadata": {},
   "outputs": [],
   "source": [
    "sirio = Source(\"sirio\", 101.28, -16.7161, 379.21, -546.05, -1223.14, 0, 0, 0)"
   ]
  },
  {
   "cell_type": "code",
   "execution_count": 4,
   "metadata": {},
   "outputs": [],
   "source": [
    "my_observations = np.arange(0,365*3,15)"
   ]
  },
  {
   "cell_type": "code",
   "execution_count": 5,
   "metadata": {},
   "outputs": [],
   "source": [
    "calc_s =  Calc_source(obs_times=my_observations, source=sirio)"
   ]
  },
  {
   "cell_type": "code",
   "execution_count": 6,
   "metadata": {},
   "outputs": [],
   "source": [
    "gaia = Satellite(0, 365*5, 1/24)"
   ]
  },
  {
   "cell_type": "code",
   "execution_count": 7,
   "metadata": {},
   "outputs": [],
   "source": [
    "dR_ds_AL, dR_ds_AC, R_AL, R_AC, FA = compute_design_equation(sirio,calc_s,gaia,my_observations)"
   ]
  },
  {
   "cell_type": "code",
   "execution_count": 11,
   "metadata": {},
   "outputs": [
    {
     "ename": "NameError",
     "evalue": "name 'compute_du_ds' is not defined",
     "output_type": "error",
     "traceback": [
      "\u001b[1;31m---------------------------------------------------------------------------\u001b[0m",
      "\u001b[1;31mNameError\u001b[0m                                 Traceback (most recent call last)",
      "\u001b[1;32m<ipython-input-11-77ce45d66028>\u001b[0m in \u001b[0;36m<module>\u001b[1;34m\u001b[0m\n\u001b[1;32m----> 1\u001b[1;33m \u001b[0mA\u001b[0m\u001b[1;33m=\u001b[0m\u001b[0mcompute_du_ds\u001b[0m\u001b[1;33m\u001b[0m\u001b[1;33m\u001b[0m\u001b[0m\n\u001b[0m",
      "\u001b[1;31mNameError\u001b[0m: name 'compute_du_ds' is not defined"
     ]
    }
   ],
   "source": []
  },
  {
   "cell_type": "code",
   "execution_count": 8,
   "metadata": {},
   "outputs": [],
   "source": [
    "FA=FA*units.rad.to(units.mas)"
   ]
  },
  {
   "cell_type": "code",
   "execution_count": 9,
   "metadata": {},
   "outputs": [
    {
     "data": {
      "text/plain": [
       "<matplotlib.collections.PathCollection at 0x195ae2cc860>"
      ]
     },
     "execution_count": 9,
     "metadata": {},
     "output_type": "execute_result"
    },
    {
     "data": {
      "image/png": "[encoded data removed]",
      "text/plain": [
       "<Figure size 432x288 with 1 Axes>"
      ]
     },
     "metadata": {
      "needs_background": "light"
     },
     "output_type": "display_data"
    }
   ],
   "source": [
    "plt.scatter(FA[:,0],FA[:,1],c=my_observations)"
   ]
  },
  {
   "cell_type": "code",
   "execution_count": 9,
   "metadata": {},
   "outputs": [
    {
     "data": {
      "text/plain": [
       "array([[-5.73370261e+08,  2.22719785e+07, -5.73370261e+08,\n",
       "         2.22719785e+07],\n",
       "       [-5.73370261e+08,  2.22719785e+07, -5.73370261e+08,\n",
       "         2.22719785e+07],\n",
       "       [-5.73370261e+08,  2.22719785e+07, -5.73370261e+08,\n",
       "         2.22719785e+07],\n",
       "       [-5.73370261e+08,  2.22719785e+07, -5.73370261e+08,\n",
       "         2.22719785e+07],\n",
       "       [-5.73370261e+08,  2.22719785e+07, -5.73370261e+08,\n",
       "         2.22719785e+07],\n",
       "       [-5.73370261e+08,  2.22719785e+07, -5.73370261e+08,\n",
       "         2.22719785e+07],\n",
       "       [-5.73370261e+08,  2.22719785e+07, -5.73370261e+08,\n",
       "         2.22719785e+07],\n",
       "       [-5.73370261e+08,  2.22719785e+07, -5.73370261e+08,\n",
       "         2.22719785e+07],\n",
       "       [-5.73370261e+08,  2.22719785e+07, -5.73370261e+08,\n",
       "         2.22719785e+07],\n",
       "       [-5.73370261e+08,  2.22719785e+07, -5.73370261e+08,\n",
       "         2.22719785e+07],\n",
       "       [-5.73370261e+08,  2.22719785e+07, -5.73370261e+08,\n",
       "         2.22719785e+07],\n",
       "       [-5.73370261e+08,  2.22719785e+07, -5.73370261e+08,\n",
       "         2.22719785e+07],\n",
       "       [-5.73370261e+08,  2.22719785e+07, -5.73370261e+08,\n",
       "         2.22719785e+07],\n",
       "       [-5.73370261e+08,  2.22719785e+07, -5.73370261e+08,\n",
       "         2.22719785e+07],\n",
       "       [-5.73370261e+08,  2.22719785e+07, -5.73370261e+08,\n",
       "         2.22719785e+07],\n",
       "       [-5.73370261e+08,  2.22719785e+07, -5.73370261e+08,\n",
       "         2.22719785e+07],\n",
       "       [-5.73370261e+08,  2.22719785e+07, -5.73370261e+08,\n",
       "         2.22719785e+07],\n",
       "       [-5.73370261e+08,  2.22719785e+07, -5.73370261e+08,\n",
       "         2.22719785e+07],\n",
       "       [-5.73370261e+08,  2.22719785e+07, -5.73370261e+08,\n",
       "         2.22719785e+07],\n",
       "       [-5.73370261e+08,  2.22719785e+07, -5.73370261e+08,\n",
       "         2.22719785e+07],\n",
       "       [-5.73370261e+08,  2.22719785e+07, -5.73370261e+08,\n",
       "         2.22719785e+07],\n",
       "       [-5.73370261e+08,  2.22719785e+07, -5.73370261e+08,\n",
       "         2.22719785e+07],\n",
       "       [-5.73370261e+08,  2.22719785e+07, -5.73370261e+08,\n",
       "         2.22719785e+07],\n",
       "       [-5.73370261e+08,  2.22719785e+07, -5.73370261e+08,\n",
       "         2.22719785e+07],\n",
       "       [-5.73370261e+08,  2.22719785e+07, -5.73370261e+08,\n",
       "         2.22719785e+07],\n",
       "       [-5.73370261e+08,  2.22719785e+07, -5.73370261e+08,\n",
       "         2.22719785e+07],\n",
       "       [-5.73370261e+08,  2.22719785e+07, -5.73370261e+08,\n",
       "         2.22719785e+07],\n",
       "       [-5.73370261e+08,  2.22719785e+07, -5.73370261e+08,\n",
       "         2.22719785e+07],\n",
       "       [-5.73370261e+08,  2.22719785e+07, -5.73370261e+08,\n",
       "         2.22719785e+07],\n",
       "       [-5.73370261e+08,  2.22719785e+07, -5.73370261e+08,\n",
       "         2.22719785e+07],\n",
       "       [-5.73370261e+08,  2.22719785e+07, -5.73370261e+08,\n",
       "         2.22719785e+07],\n",
       "       [-5.73370261e+08,  2.22719785e+07, -5.73370261e+08,\n",
       "         2.22719785e+07],\n",
       "       [-5.73370261e+08,  2.22719785e+07, -5.73370261e+08,\n",
       "         2.22719785e+07],\n",
       "       [-5.73370261e+08,  2.22719785e+07, -5.73370261e+08,\n",
       "         2.22719785e+07],\n",
       "       [-5.73370261e+08,  2.22719785e+07, -5.73370261e+08,\n",
       "         2.22719785e+07],\n",
       "       [-5.73370261e+08,  2.22719785e+07, -5.73370261e+08,\n",
       "         2.22719785e+07],\n",
       "       [-5.73370261e+08,  2.22719785e+07, -5.73370261e+08,\n",
       "         2.22719785e+07],\n",
       "       [-5.73370261e+08,  2.22719785e+07, -5.73370261e+08,\n",
       "         2.22719785e+07],\n",
       "       [-5.73370261e+08,  2.22719785e+07, -5.73370261e+08,\n",
       "         2.22719785e+07],\n",
       "       [-5.73370261e+08,  2.22719785e+07, -5.73370261e+08,\n",
       "         2.22719785e+07],\n",
       "       [-5.73370261e+08,  2.22719785e+07, -5.73370261e+08,\n",
       "         2.22719785e+07],\n",
       "       [-5.73370261e+08,  2.22719785e+07, -5.73370261e+08,\n",
       "         2.22719785e+07],\n",
       "       [-5.73370261e+08,  2.22719785e+07, -5.73370261e+08,\n",
       "         2.22719785e+07],\n",
       "       [-5.73370261e+08,  2.22719785e+07, -5.73370261e+08,\n",
       "         2.22719785e+07],\n",
       "       [-5.73370261e+08,  2.22719785e+07, -5.73370261e+08,\n",
       "         2.22719785e+07],\n",
       "       [-5.73370261e+08,  2.22719785e+07, -5.73370261e+08,\n",
       "         2.22719785e+07],\n",
       "       [-5.73370261e+08,  2.22719785e+07, -5.73370261e+08,\n",
       "         2.22719785e+07],\n",
       "       [-5.73370261e+08,  2.22719785e+07, -5.73370261e+08,\n",
       "         2.22719785e+07],\n",
       "       [-5.73370261e+08,  2.22719785e+07, -5.73370261e+08,\n",
       "         2.22719785e+07],\n",
       "       [-5.73370261e+08,  2.22719785e+07, -5.73370261e+08,\n",
       "         2.22719785e+07],\n",
       "       [-5.73370261e+08,  2.22719785e+07, -5.73370261e+08,\n",
       "         2.22719785e+07],\n",
       "       [-5.73370261e+08,  2.22719785e+07, -5.73370261e+08,\n",
       "         2.22719785e+07],\n",
       "       [-5.73370261e+08,  2.22719785e+07, -5.73370261e+08,\n",
       "         2.22719785e+07],\n",
       "       [-5.73370261e+08,  2.22719785e+07, -5.73370261e+08,\n",
       "         2.22719785e+07],\n",
       "       [-5.73370261e+08,  2.22719785e+07, -5.73370261e+08,\n",
       "         2.22719785e+07],\n",
       "       [-5.73370261e+08,  2.22719785e+07, -5.73370261e+08,\n",
       "         2.22719785e+07],\n",
       "       [-5.73370261e+08,  2.22719785e+07, -5.73370261e+08,\n",
       "         2.22719785e+07],\n",
       "       [-5.73370261e+08,  2.22719785e+07, -5.73370261e+08,\n",
       "         2.22719785e+07],\n",
       "       [-5.73370261e+08,  2.22719785e+07, -5.73370261e+08,\n",
       "         2.22719785e+07],\n",
       "       [-5.73370261e+08,  2.22719785e+07, -5.73370261e+08,\n",
       "         2.22719785e+07],\n",
       "       [-5.73370261e+08,  2.22719785e+07, -5.73370261e+08,\n",
       "         2.22719785e+07],\n",
       "       [-5.73370261e+08,  2.22719785e+07, -5.73370261e+08,\n",
       "         2.22719785e+07],\n",
       "       [-5.73370261e+08,  2.22719785e+07, -5.73370261e+08,\n",
       "         2.22719785e+07],\n",
       "       [-5.73370261e+08,  2.22719785e+07, -5.73370261e+08,\n",
       "         2.22719785e+07],\n",
       "       [-5.73370261e+08,  2.22719785e+07, -5.73370261e+08,\n",
       "         2.22719785e+07],\n",
       "       [-5.73370261e+08,  2.22719785e+07, -5.73370261e+08,\n",
       "         2.22719785e+07],\n",
       "       [-5.73370261e+08,  2.22719785e+07, -5.73370261e+08,\n",
       "         2.22719785e+07],\n",
       "       [-5.73370261e+08,  2.22719785e+07, -5.73370261e+08,\n",
       "         2.22719785e+07],\n",
       "       [-5.73370261e+08,  2.22719785e+07, -5.73370261e+08,\n",
       "         2.22719785e+07],\n",
       "       [-5.73370261e+08,  2.22719785e+07, -5.73370261e+08,\n",
       "         2.22719785e+07],\n",
       "       [-5.73370261e+08,  2.22719785e+07, -5.73370261e+08,\n",
       "         2.22719785e+07],\n",
       "       [-5.73370261e+08,  2.22719785e+07, -5.73370261e+08,\n",
       "         2.22719785e+07],\n",
       "       [-5.73370261e+08,  2.22719785e+07, -5.73370261e+08,\n",
       "         2.22719785e+07]])"
      ]
     },
     "execution_count": 9,
     "metadata": {},
     "output_type": "execute_result"
    }
   ],
   "source": [
    "FA"
   ]
  },
  {
   "cell_type": "code",
   "execution_count": 10,
   "metadata": {},
   "outputs": [
    {
     "data": {
      "text/plain": [
       "array([   0,   15,   30,   45,   60,   75,   90,  105,  120,  135,  150,\n",
       "        165,  180,  195,  210,  225,  240,  255,  270,  285,  300,  315,\n",
       "        330,  345,  360,  375,  390,  405,  420,  435,  450,  465,  480,\n",
       "        495,  510,  525,  540,  555,  570,  585,  600,  615,  630,  645,\n",
       "        660,  675,  690,  705,  720,  735,  750,  765,  780,  795,  810,\n",
       "        825,  840,  855,  870,  885,  900,  915,  930,  945,  960,  975,\n",
       "        990, 1005, 1020, 1035, 1050, 1065, 1080])"
      ]
     },
     "execution_count": 10,
     "metadata": {},
     "output_type": "execute_result"
    }
   ],
   "source": [
    "my_observations"
   ]
  },
  {
   "cell_type": "code",
   "execution_count": null,
   "metadata": {},
   "outputs": [],
   "source": []
  }
 ],
 "metadata": {
  "kernelspec": {
   "display_name": "Python 3",
   "language": "python",
   "name": "python3"
  },
  "language_info": {
   "codemirror_mode": {
    "name": "ipython",
    "version": 3
   },
   "file_extension": ".py",
   "mimetype": "text/x-python",
   "name": "python",
   "nbconvert_exporter": "python",
   "pygments_lexer": "ipython3",
   "version": "3.7.2"
  }
 },
 "nbformat": 4,
 "nbformat_minor": 2
}
