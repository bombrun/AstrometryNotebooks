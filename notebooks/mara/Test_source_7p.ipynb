{
 "cells": [
  {
   "cell_type": "code",
   "execution_count": 1,
   "metadata": {},
   "outputs": [],
   "source": [
    "#This is the test for the 7 parameters Source model\n",
    "\n",
    "import sys\n",
    "sys.path\n",
    " #append to path the folder that contains the analytic scanner\n",
    "sys.path.append('../ESA/GaiaLab/gaialab')\n",
    "\n",
    "import frame_transformations as ft\n",
    "from scanner import Scanner\n",
    "from satellite import Satellite\n",
    "from source import Source\n",
    "from source import Calc_source\n",
    "import solver\n",
    "\n",
    "import constants as const\n",
    "import quaternion\n",
    "import helpers as helpers\n",
    "\n",
    "import numpy as np\n",
    "\n",
    "import astropy.units as units\n",
    "import matplotlib.pyplot as plt"
   ]
  },
  {
   "cell_type": "code",
   "execution_count": 2,
   "metadata": {},
   "outputs": [],
   "source": [
    "#bernard = Source(\"bernard\", 269.45, 4.6933 , 547.4506, -802.803, 10362.54, -0.55, 5.9, 0)\n",
    "#my_observations = np.arange(0,365*3,15)\n",
    "#calc_s =  Calc_source(obs_times=my_observations, source=bernard)\n",
    "#gaia = Satellite(0, 365*5, 1/24)\n",
    "#dR_ds_AL, dR_ds_AC, R_AL, R_AC, FA = compute_design_equation(bernard,calc_s,gaia,my_observations)\n",
    "#plt.scatter(FA[:,0]*units.rad.to(units.mas),FA[:,1]*units.rad.to(units.mas),c=my_observations)"
   ]
  },
  {
   "cell_type": "code",
   "execution_count": 3,
   "metadata": {},
   "outputs": [],
   "source": [
    "sirio1 = Source(\"sirio\", 101.28, -16.7161, 379.21, -546.05, -1223.14, 0, 0, 0 )\n",
    "sirio2 = Source(\"sirio\", 101.28, -16.7161, 379.21, -546.05, -1223.14, -10, 10, 0 )\n",
    "#bernard1 = Source(\"bernard\", 269.45, 4.6933 , 547.4506, -802.803, 10362.54, 0, 0, 0)\n",
    "#bernard = Source(\"bernard\", 269.45, 4.6933 , 547.4506, -802.803, 10362.54, -10, 10, 0)"
   ]
  },
  {
   "cell_type": "code",
   "execution_count": 46,
   "metadata": {},
   "outputs": [],
   "source": [
    "my_observations = np.arange(0,365*3,30)"
   ]
  },
  {
   "cell_type": "code",
   "execution_count": 47,
   "metadata": {},
   "outputs": [],
   "source": [
    "calc_s1 = Calc_source(obs_times=my_observations, source=sirio1)\n",
    "calc_s2 = Calc_source(obs_times=my_observations, source=sirio2)"
   ]
  },
  {
   "cell_type": "code",
   "execution_count": 48,
   "metadata": {},
   "outputs": [],
   "source": [
    "gaia = Satellite(0, 365*5, 1/24)"
   ]
  },
  {
   "cell_type": "code",
   "execution_count": 49,
   "metadata": {},
   "outputs": [],
   "source": [
    "dR_ds_AL1, dR_ds_AC1, R_AL1, R_AC1, FA1 = solver.compute_design_equation(sirio1,calc_s1,gaia,my_observations)\n",
    "dR_ds_AL2, dR_ds_AC2, R_AL2, R_AC2, FA2 = solver.compute_design_equation(sirio2,calc_s2,gaia,my_observations)\n",
    "#dR_ds_AL2, dR_ds_AC2, R_AL2, R_AC2, FA2 = solver.compute_design_equation(bernard,calc_s,gaia,my_observations)"
   ]
  },
  {
   "cell_type": "code",
   "execution_count": 50,
   "metadata": {},
   "outputs": [],
   "source": [
    "FA1=FA1*units.rad.to(units.mas)\n",
    "FA2=FA2*units.rad.to(units.mas)"
   ]
  },
  {
   "cell_type": "code",
   "execution_count": 51,
   "metadata": {
    "scrolled": false
   },
   "outputs": [],
   "source": [
    "#dR_ds_AL"
   ]
  },
  {
   "cell_type": "code",
   "execution_count": 52,
   "metadata": {},
   "outputs": [],
   "source": [
    "#FA"
   ]
  },
  {
   "cell_type": "code",
   "execution_count": 65,
   "metadata": {
    "scrolled": true
   },
   "outputs": [
    {
     "data": {
      "text/plain": [
       "<matplotlib.collections.PathCollection at 0x218f15756a0>"
      ]
     },
     "execution_count": 65,
     "metadata": {},
     "output_type": "execute_result"
    },
    {
     "data": {
      "image/png": "[encoded data removed]",
      "text/plain": [
       "<Figure size 432x288 with 1 Axes>"
      ]
     },
     "metadata": {
      "needs_background": "light"
     },
     "output_type": "display_data"
    }
   ],
   "source": [
    "plt.scatter(FA1[:,0],FA1[:,1],c=my_observations, s=40, marker = '*', cmap='winter')\n",
    "\n",
    "plt.scatter(FA2[:,0],FA2[:,1],c=my_observations, s=20, marker = 'o',cmap='Wistia')"
   ]
  },
  {
   "cell_type": "code",
   "execution_count": null,
   "metadata": {},
   "outputs": [],
   "source": []
  }
 ],
 "metadata": {
  "kernelspec": {
   "display_name": "Python 3",
   "language": "python",
   "name": "python3"
  },
  "language_info": {
   "codemirror_mode": {
    "name": "ipython",
    "version": 3
   },
   "file_extension": ".py",
   "mimetype": "text/x-python",
   "name": "python",
   "nbconvert_exporter": "python",
   "pygments_lexer": "ipython3",
   "version": "3.7.2"
  }
 },
 "nbformat": 4,
 "nbformat_minor": 2
}
